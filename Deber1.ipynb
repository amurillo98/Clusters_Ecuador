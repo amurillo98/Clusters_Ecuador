{
 "cells": [
  {
   "cell_type": "markdown",
   "metadata": {},
   "source": [
    "# Importar las librerías a utilizar"
   ]
  },
  {
   "cell_type": "code",
   "execution_count": 394,
   "metadata": {},
   "outputs": [
    {
     "name": "stdout",
     "output_type": "stream",
     "text": [
      "Requirement already satisfied: scikit-learn-extra in c:\\users\\acris\\anaconda3\\lib\\site-packages (0.3.0)\n",
      "Requirement already satisfied: numpy>=1.13.3 in c:\\users\\acris\\anaconda3\\lib\\site-packages (from scikit-learn-extra) (1.24.3)\n",
      "Requirement already satisfied: scipy>=0.19.1 in c:\\users\\acris\\anaconda3\\lib\\site-packages (from scikit-learn-extra) (1.10.1)\n",
      "Requirement already satisfied: scikit-learn>=0.23.0 in c:\\users\\acris\\anaconda3\\lib\\site-packages (from scikit-learn-extra) (1.2.2)\n",
      "Requirement already satisfied: joblib>=1.1.1 in c:\\users\\acris\\anaconda3\\lib\\site-packages (from scikit-learn>=0.23.0->scikit-learn-extra) (1.2.0)\n",
      "Requirement already satisfied: threadpoolctl>=2.0.0 in c:\\users\\acris\\anaconda3\\lib\\site-packages (from scikit-learn>=0.23.0->scikit-learn-extra) (2.2.0)\n",
      "Note: you may need to restart the kernel to use updated packages.\n"
     ]
    }
   ],
   "source": [
    "pip install scikit-learn-extra"
   ]
  },
  {
   "cell_type": "code",
   "execution_count": 395,
   "metadata": {},
   "outputs": [],
   "source": [
    "import pandas as pd\n",
    "import numpy as np\n",
    "import matplotlib.pyplot as plt\n",
    "import seaborn as sns\n",
    "from sklearn.cluster import KMeans\n",
    "from sklearn.preprocessing import StandardScaler\n",
    "from sklearn.metrics import silhouette_score\n",
    "from sklearn_extra.cluster import KMedoids\n",
    "import os\n"
   ]
  },
  {
   "cell_type": "code",
   "execution_count": 397,
   "metadata": {},
   "outputs": [
    {
     "data": {
      "text/html": [
       "<div>\n",
       "<style scoped>\n",
       "    .dataframe tbody tr th:only-of-type {\n",
       "        vertical-align: middle;\n",
       "    }\n",
       "\n",
       "    .dataframe tbody tr th {\n",
       "        vertical-align: top;\n",
       "    }\n",
       "\n",
       "    .dataframe thead th {\n",
       "        text-align: right;\n",
       "    }\n",
       "</style>\n",
       "<table border=\"1\" class=\"dataframe\">\n",
       "  <thead>\n",
       "    <tr style=\"text-align: right;\">\n",
       "      <th></th>\n",
       "      <th>Longitude</th>\n",
       "      <th>Latitude</th>\n",
       "    </tr>\n",
       "  </thead>\n",
       "  <tbody>\n",
       "    <tr>\n",
       "      <th>0</th>\n",
       "      <td>-80.43876447751417</td>\n",
       "      <td>-0,9519244059855368</td>\n",
       "    </tr>\n",
       "    <tr>\n",
       "      <th>1</th>\n",
       "      <td>-80.42499386576185</td>\n",
       "      <td>-0,7890541493993685</td>\n",
       "    </tr>\n",
       "    <tr>\n",
       "      <th>2</th>\n",
       "      <td>-78.4154028108096</td>\n",
       "      <td>-0,0191854793665598</td>\n",
       "    </tr>\n",
       "    <tr>\n",
       "      <th>3</th>\n",
       "      <td>-79.91790871558031</td>\n",
       "      <td>-2,1991032880049435</td>\n",
       "    </tr>\n",
       "    <tr>\n",
       "      <th>4</th>\n",
       "      <td>-80.48995382890078</td>\n",
       "      <td>-0,496245130223165</td>\n",
       "    </tr>\n",
       "  </tbody>\n",
       "</table>\n",
       "</div>"
      ],
      "text/plain": [
       "            Longitude             Latitude\n",
       "0  -80.43876447751417  -0,9519244059855368\n",
       "1  -80.42499386576185  -0,7890541493993685\n",
       "2   -78.4154028108096  -0,0191854793665598\n",
       "3  -79.91790871558031  -2,1991032880049435\n",
       "4  -80.48995382890078   -0,496245130223165"
      ]
     },
     "execution_count": 397,
     "metadata": {},
     "output_type": "execute_result"
    }
   ],
   "source": [
    "df = pd.read_csv(os.path.join(DATA_DIR,\"data_ecu.txt\"),delim_whitespace=True)\n",
    "df.head()"
   ]
  },
  {
   "cell_type": "code",
   "execution_count": 398,
   "metadata": {},
   "outputs": [
    {
     "data": {
      "text/plain": [
       "Longitude    object\n",
       "Latitude     object\n",
       "dtype: object"
      ]
     },
     "execution_count": 398,
     "metadata": {},
     "output_type": "execute_result"
    }
   ],
   "source": [
    "df.dtypes"
   ]
  },
  {
   "cell_type": "code",
   "execution_count": 399,
   "metadata": {},
   "outputs": [
    {
     "data": {
      "text/html": [
       "<div>\n",
       "<style scoped>\n",
       "    .dataframe tbody tr th:only-of-type {\n",
       "        vertical-align: middle;\n",
       "    }\n",
       "\n",
       "    .dataframe tbody tr th {\n",
       "        vertical-align: top;\n",
       "    }\n",
       "\n",
       "    .dataframe thead th {\n",
       "        text-align: right;\n",
       "    }\n",
       "</style>\n",
       "<table border=\"1\" class=\"dataframe\">\n",
       "  <thead>\n",
       "    <tr style=\"text-align: right;\">\n",
       "      <th></th>\n",
       "      <th>Longitude</th>\n",
       "      <th>Latitude</th>\n",
       "    </tr>\n",
       "  </thead>\n",
       "  <tbody>\n",
       "    <tr>\n",
       "      <th>count</th>\n",
       "      <td>305</td>\n",
       "      <td>290</td>\n",
       "    </tr>\n",
       "    <tr>\n",
       "      <th>unique</th>\n",
       "      <td>298</td>\n",
       "      <td>288</td>\n",
       "    </tr>\n",
       "    <tr>\n",
       "      <th>top</th>\n",
       "      <td>error</td>\n",
       "      <td>999,0</td>\n",
       "    </tr>\n",
       "    <tr>\n",
       "      <th>freq</th>\n",
       "      <td>3</td>\n",
       "      <td>3</td>\n",
       "    </tr>\n",
       "  </tbody>\n",
       "</table>\n",
       "</div>"
      ],
      "text/plain": [
       "       Longitude Latitude\n",
       "count        305      290\n",
       "unique       298      288\n",
       "top        error    999,0\n",
       "freq           3        3"
      ]
     },
     "execution_count": 399,
     "metadata": {},
     "output_type": "execute_result"
    }
   ],
   "source": [
    "df.describe()"
   ]
  },
  {
   "cell_type": "markdown",
   "metadata": {},
   "source": [
    "# AED\n"
   ]
  },
  {
   "cell_type": "markdown",
   "metadata": {},
   "source": [
    "# Verificar valores faltantes\n"
   ]
  },
  {
   "cell_type": "code",
   "execution_count": 400,
   "metadata": {},
   "outputs": [
    {
     "data": {
      "text/plain": [
       "Longitude     0\n",
       "Latitude     15\n",
       "dtype: int64"
      ]
     },
     "execution_count": 400,
     "metadata": {},
     "output_type": "execute_result"
    }
   ],
   "source": [
    "df.isnull().sum()\n"
   ]
  },
  {
   "cell_type": "markdown",
   "metadata": {},
   "source": [
    "# Verificar si hay duplicados\n"
   ]
  },
  {
   "cell_type": "code",
   "execution_count": 401,
   "metadata": {},
   "outputs": [
    {
     "name": "stdout",
     "output_type": "stream",
     "text": [
      "\n",
      "Número de filas duplicadas:\n",
      "7\n"
     ]
    }
   ],
   "source": [
    "print(\"\\nNúmero de filas duplicadas:\")\n",
    "print(df.duplicated().sum())\n"
   ]
  },
  {
   "cell_type": "markdown",
   "metadata": {},
   "source": [
    "# Resolver valores faltantes y duplicados"
   ]
  },
  {
   "cell_type": "code",
   "execution_count": 402,
   "metadata": {},
   "outputs": [
    {
     "data": {
      "text/plain": [
       "Longitude           Latitude           \n",
       "error               999,0                  3\n",
       "-78.39704089477075  -0,0578544460543432    1\n",
       "-79.96131215663695  -2,1566645077691304    1\n",
       "-79.95605510707483  -2,123089855495745     1\n",
       "-79.95491044967635  -2,226476845818889     1\n",
       "                                          ..\n",
       "-78.59815593129615  -0,1680620461632256    1\n",
       "-78.59610323995663  -0,048269125163402     1\n",
       "-78.59601916322502  0,0001952379649915     1\n",
       "-78.59587541748397  -0,0659677990582848    1\n",
       "-79.89957184928626  -2,201976100926877     1\n",
       "Length: 288, dtype: int64"
      ]
     },
     "execution_count": 402,
     "metadata": {},
     "output_type": "execute_result"
    }
   ],
   "source": [
    "df.value_counts()"
   ]
  },
  {
   "cell_type": "code",
   "execution_count": 403,
   "metadata": {},
   "outputs": [],
   "source": [
    "df2 = df.dropna()"
   ]
  },
  {
   "cell_type": "code",
   "execution_count": 404,
   "metadata": {},
   "outputs": [],
   "source": [
    "df2= df2.drop_duplicates()"
   ]
  },
  {
   "cell_type": "code",
   "execution_count": 405,
   "metadata": {},
   "outputs": [
    {
     "data": {
      "text/plain": [
       "0"
      ]
     },
     "execution_count": 405,
     "metadata": {},
     "output_type": "execute_result"
    }
   ],
   "source": [
    "df2.duplicated().sum()"
   ]
  },
  {
   "cell_type": "code",
   "execution_count": 406,
   "metadata": {},
   "outputs": [
    {
     "data": {
      "text/plain": [
       "Longitude    0\n",
       "Latitude     0\n",
       "dtype: int64"
      ]
     },
     "execution_count": 406,
     "metadata": {},
     "output_type": "execute_result"
    }
   ],
   "source": [
    "df2.isnull().sum()"
   ]
  },
  {
   "cell_type": "code",
   "execution_count": 407,
   "metadata": {},
   "outputs": [
    {
     "data": {
      "text/html": [
       "<div>\n",
       "<style scoped>\n",
       "    .dataframe tbody tr th:only-of-type {\n",
       "        vertical-align: middle;\n",
       "    }\n",
       "\n",
       "    .dataframe tbody tr th {\n",
       "        vertical-align: top;\n",
       "    }\n",
       "\n",
       "    .dataframe thead th {\n",
       "        text-align: right;\n",
       "    }\n",
       "</style>\n",
       "<table border=\"1\" class=\"dataframe\">\n",
       "  <thead>\n",
       "    <tr style=\"text-align: right;\">\n",
       "      <th></th>\n",
       "      <th>Longitude</th>\n",
       "      <th>Latitude</th>\n",
       "    </tr>\n",
       "  </thead>\n",
       "  <tbody>\n",
       "    <tr>\n",
       "      <th>count</th>\n",
       "      <td>288</td>\n",
       "      <td>288</td>\n",
       "    </tr>\n",
       "    <tr>\n",
       "      <th>unique</th>\n",
       "      <td>288</td>\n",
       "      <td>288</td>\n",
       "    </tr>\n",
       "    <tr>\n",
       "      <th>top</th>\n",
       "      <td>-80.43876447751417</td>\n",
       "      <td>-0,9519244059855368</td>\n",
       "    </tr>\n",
       "    <tr>\n",
       "      <th>freq</th>\n",
       "      <td>1</td>\n",
       "      <td>1</td>\n",
       "    </tr>\n",
       "  </tbody>\n",
       "</table>\n",
       "</div>"
      ],
      "text/plain": [
       "                 Longitude             Latitude\n",
       "count                  288                  288\n",
       "unique                 288                  288\n",
       "top     -80.43876447751417  -0,9519244059855368\n",
       "freq                     1                    1"
      ]
     },
     "execution_count": 407,
     "metadata": {},
     "output_type": "execute_result"
    }
   ],
   "source": [
    "df2.describe()"
   ]
  },
  {
   "cell_type": "code",
   "execution_count": 408,
   "metadata": {},
   "outputs": [
    {
     "data": {
      "text/plain": [
       "Longitude           Latitude           \n",
       "-78.37750375216743  -0,0766595688983383    1\n",
       "-78.39704089477075  -0,0578544460543432    1\n",
       "-79.96131215663695  -2,1566645077691304    1\n",
       "-79.95605510707483  -2,123089855495745     1\n",
       "-79.95491044967635  -2,226476845818889     1\n",
       "                                          ..\n",
       "-78.59815593129615  -0,1680620461632256    1\n",
       "-78.59610323995663  -0,048269125163402     1\n",
       "-78.59601916322502  0,0001952379649915     1\n",
       "-78.59587541748397  -0,0659677990582848    1\n",
       "error               999,0                  1\n",
       "Length: 288, dtype: int64"
      ]
     },
     "execution_count": 408,
     "metadata": {},
     "output_type": "execute_result"
    }
   ],
   "source": [
    "df2.value_counts()"
   ]
  },
  {
   "cell_type": "code",
   "execution_count": 409,
   "metadata": {},
   "outputs": [],
   "source": [
    "df2.replace({'Latitude': '999,0', 'Longitude': 'error'}, np.nan, inplace=True)\n",
    "df2['Latitude'] = df2['Latitude'].str.replace(',', '.')\n",
    "df2['Longitude'] = df2['Longitude'].str.replace(',', '.')\n",
    "df2.dropna(inplace=True)"
   ]
  },
  {
   "cell_type": "code",
   "execution_count": 410,
   "metadata": {},
   "outputs": [
    {
     "data": {
      "text/plain": [
       "Longitude           Latitude           \n",
       "-78.37750375216743  -0.0766595688983383    1\n",
       "-79.94374388270353  -2.178066005532484     1\n",
       "-79.95605510707483  -2.123089855495745     1\n",
       "-79.95491044967635  -2.226476845818889     1\n",
       "-79.95029717405482  -2.177631798374293     1\n",
       "                                          ..\n",
       "-78.59815593129615  -0.1680620461632256    1\n",
       "-78.59610323995663  -0.048269125163402     1\n",
       "-78.59601916322502  0.0001952379649915     1\n",
       "-78.59587541748397  -0.0659677990582848    1\n",
       "-80.51343212052747  -1.137741062882963     1\n",
       "Length: 287, dtype: int64"
      ]
     },
     "execution_count": 410,
     "metadata": {},
     "output_type": "execute_result"
    }
   ],
   "source": [
    "df2.value_counts()"
   ]
  },
  {
   "cell_type": "code",
   "execution_count": 411,
   "metadata": {},
   "outputs": [],
   "source": [
    "df2.columns = ['Longitude', 'Latitude']"
   ]
  },
  {
   "cell_type": "code",
   "execution_count": 412,
   "metadata": {},
   "outputs": [],
   "source": [
    "df2['Longitude'] = df2['Longitude'].astype(float)\n",
    "df2['Latitude'] = df2['Latitude'].astype(float)"
   ]
  },
  {
   "cell_type": "code",
   "execution_count": 413,
   "metadata": {},
   "outputs": [
    {
     "name": "stdout",
     "output_type": "stream",
     "text": [
      "Longitude    float64\n",
      "Latitude     float64\n",
      "dtype: object\n"
     ]
    }
   ],
   "source": [
    "print(df2.dtypes)"
   ]
  },
  {
   "cell_type": "code",
   "execution_count": 414,
   "metadata": {},
   "outputs": [
    {
     "name": "stderr",
     "output_type": "stream",
     "text": [
      "C:\\Users\\acris\\anaconda3\\Lib\\site-packages\\sklearn\\cluster\\_kmeans.py:870: FutureWarning: The default value of `n_init` will change from 10 to 'auto' in 1.4. Set the value of `n_init` explicitly to suppress the warning\n",
      "  warnings.warn(\n",
      "C:\\Users\\acris\\anaconda3\\Lib\\site-packages\\sklearn\\cluster\\_kmeans.py:1382: UserWarning: KMeans is known to have a memory leak on Windows with MKL, when there are less chunks than available threads. You can avoid it by setting the environment variable OMP_NUM_THREADS=2.\n",
      "  warnings.warn(\n"
     ]
    }
   ],
   "source": [
    "# Aplicar KMeans y 3 clusters\n",
    "kmeans = KMeans(n_clusters=3, random_state=50)\n",
    "df2['cluster'] = kmeans.fit_predict(df2[['Longitude', 'Latitude']])"
   ]
  },
  {
   "cell_type": "code",
   "execution_count": 420,
   "metadata": {},
   "outputs": [
    {
     "data": {
      "image/png": "[encoded data removed]",
      "text/plain": [
       "<Figure size 1000x600 with 1 Axes>"
      ]
     },
     "metadata": {},
     "output_type": "display_data"
    }
   ],
   "source": [
    "plt.figure(figsize=(10, 6))\n",
    "plt.scatter(df2['Longitude'], df2['Latitude'], c=df2['cluster'], cmap='viridis', alpha=0.5)\n",
    "plt.scatter(kmeans.cluster_centers_[:, 0], kmeans.cluster_centers_[:, 1], c='red', marker='X', s=200)  # Centroides\n",
    "plt.title('Clusters Mapa Ecuador')\n",
    "plt.xlabel('Longitude')\n",
    "plt.ylabel('Latitude')\n",
    "plt.grid()\n",
    "plt.show()"
   ]
  },
  {
   "cell_type": "code",
   "execution_count": 428,
   "metadata": {},
   "outputs": [
    {
     "data": {
      "text/html": [
       "<div style=\"width:100%;\"><div style=\"position:relative;width:100%;height:0;padding-bottom:60%;\"><span style=\"color:#565656\">Make this Notebook Trusted to load map: File -> Trust Notebook</span><iframe srcdoc=\"&lt;!DOCTYPE html&gt;\n",
       "&lt;html&gt;\n",
       "&lt;head&gt;\n",
       "    \n",
       "    &lt;meta http-equiv=&quot;content-type&quot; content=&quot;text/html; charset=UTF-8&quot; /&gt;\n",
       "    \n",
       "        &lt;script&gt;\n",
       "            L_NO_TOUCH = false;\n",
       "            L_DISABLE_3D = false;\n",
       "        &lt;/script&gt;\n",
       "    \n",
       "    &lt;style&gt;html, body {width: 100%;height: 100%;margin: 0;padding: 0;}&lt;/style&gt;\n",
       "    &lt;style&gt;#map {position:absolute;top:0;bottom:0;right:0;left:0;}&lt;/style&gt;\n",
       "    &lt;script src=&quot;https://cdn.jsdelivr.net/npm/leaflet@1.9.3/dist/leaflet.js&quot;&gt;&lt;/script&gt;\n",
       "    &lt;script src=&quot;https://code.jquery.com/jquery-3.7.1.min.js&quot;&gt;&lt;/script&gt;\n",
       "    &lt;script src=&quot;https://cdn.jsdelivr.net/npm/bootstrap@5.2.2/dist/js/bootstrap.bundle.min.js&quot;&gt;&lt;/script&gt;\n",
       "    &lt;script src=&quot;https://cdnjs.cloudflare.com/ajax/libs/Leaflet.awesome-markers/2.0.2/leaflet.awesome-markers.js&quot;&gt;&lt;/script&gt;\n",
       "    &lt;link rel=&quot;stylesheet&quot; href=&quot;https://cdn.jsdelivr.net/npm/leaflet@1.9.3/dist/leaflet.css&quot;/&gt;\n",
       "    &lt;link rel=&quot;stylesheet&quot; href=&quot;https://cdn.jsdelivr.net/npm/bootstrap@5.2.2/dist/css/bootstrap.min.css&quot;/&gt;\n",
       "    &lt;link rel=&quot;stylesheet&quot; href=&quot;https://netdna.bootstrapcdn.com/bootstrap/3.0.0/css/bootstrap-glyphicons.css&quot;/&gt;\n",
       "    &lt;link rel=&quot;stylesheet&quot; href=&quot;https://cdn.jsdelivr.net/npm/@fortawesome/fontawesome-free@6.2.0/css/all.min.css&quot;/&gt;\n",
       "    &lt;link rel=&quot;stylesheet&quot; href=&quot;https://cdnjs.cloudflare.com/ajax/libs/Leaflet.awesome-markers/2.0.2/leaflet.awesome-markers.css&quot;/&gt;\n",
       "    &lt;link rel=&quot;stylesheet&quot; href=&quot;https://cdn.jsdelivr.net/gh/python-visualization/folium/folium/templates/leaflet.awesome.rotate.min.css&quot;/&gt;\n",
       "    \n",
       "            &lt;meta name=&quot;viewport&quot; content=&quot;width=device-width,\n",
       "                initial-scale=1.0, maximum-scale=1.0, user-scalable=no&quot; /&gt;\n",
       "            &lt;style&gt;\n",
       "                #map_375d94e9b6d7c81235521ed0ccc7e0cc {\n",
       "                    position: relative;\n",
       "                    width: 100.0%;\n",
       "                    height: 100.0%;\n",
       "                    left: 0.0%;\n",
       "                    top: 0.0%;\n",
       "                }\n",
       "                .leaflet-container { font-size: 1rem; }\n",
       "            &lt;/style&gt;\n",
       "        \n",
       "&lt;/head&gt;\n",
       "&lt;body&gt;\n",
       "    \n",
       "    \n",
       "            &lt;div class=&quot;folium-map&quot; id=&quot;map_375d94e9b6d7c81235521ed0ccc7e0cc&quot; &gt;&lt;/div&gt;\n",
       "        \n",
       "&lt;/body&gt;\n",
       "&lt;script&gt;\n",
       "    \n",
       "    \n",
       "            var map_375d94e9b6d7c81235521ed0ccc7e0cc = L.map(\n",
       "                &quot;map_375d94e9b6d7c81235521ed0ccc7e0cc&quot;,\n",
       "                {\n",
       "                    center: [-1.831239, -78.183406],\n",
       "                    crs: L.CRS.EPSG3857,\n",
       "                    zoom: 6,\n",
       "                    zoomControl: true,\n",
       "                    preferCanvas: false,\n",
       "                }\n",
       "            );\n",
       "\n",
       "            \n",
       "\n",
       "        \n",
       "    \n",
       "            var tile_layer_bf9b2e5ee04844c737cd190fedf16e2b = L.tileLayer(\n",
       "                &quot;https://tile.openstreetmap.org/{z}/{x}/{y}.png&quot;,\n",
       "                {&quot;attribution&quot;: &quot;\\u0026copy; \\u003ca href=\\&quot;https://www.openstreetmap.org/copyright\\&quot;\\u003eOpenStreetMap\\u003c/a\\u003e contributors&quot;, &quot;detectRetina&quot;: false, &quot;maxNativeZoom&quot;: 19, &quot;maxZoom&quot;: 19, &quot;minZoom&quot;: 0, &quot;noWrap&quot;: false, &quot;opacity&quot;: 1, &quot;subdomains&quot;: &quot;abc&quot;, &quot;tms&quot;: false}\n",
       "            );\n",
       "        \n",
       "    \n",
       "            tile_layer_bf9b2e5ee04844c737cd190fedf16e2b.addTo(map_375d94e9b6d7c81235521ed0ccc7e0cc);\n",
       "        \n",
       "    \n",
       "            var marker_2aab74dbbdb7f1bef8a8a7e016493502 = L.marker(\n",
       "                [-0.08301216499742092, -78.49352579725246],\n",
       "                {}\n",
       "            ).addTo(map_375d94e9b6d7c81235521ed0ccc7e0cc);\n",
       "        \n",
       "    \n",
       "            var icon_0f0d8a61f6dc105bad24dfa1f255e581 = L.AwesomeMarkers.icon(\n",
       "                {&quot;extraClasses&quot;: &quot;fa-rotate-0&quot;, &quot;icon&quot;: &quot;info-sign&quot;, &quot;iconColor&quot;: &quot;white&quot;, &quot;markerColor&quot;: &quot;blue&quot;, &quot;prefix&quot;: &quot;glyphicon&quot;}\n",
       "            );\n",
       "            marker_2aab74dbbdb7f1bef8a8a7e016493502.setIcon(icon_0f0d8a61f6dc105bad24dfa1f255e581);\n",
       "        \n",
       "    \n",
       "        var popup_86353c2d8eab3376993b172e04276944 = L.popup({&quot;maxWidth&quot;: &quot;100%&quot;});\n",
       "\n",
       "        \n",
       "            \n",
       "                var html_3bfe7e56014a2b7d7e4c6a4f70d8c735 = $(`&lt;div id=&quot;html_3bfe7e56014a2b7d7e4c6a4f70d8c735&quot; style=&quot;width: 100.0%; height: 100.0%;&quot;&gt;Cluster 0 Centroide&lt;/div&gt;`)[0];\n",
       "                popup_86353c2d8eab3376993b172e04276944.setContent(html_3bfe7e56014a2b7d7e4c6a4f70d8c735);\n",
       "            \n",
       "        \n",
       "\n",
       "        marker_2aab74dbbdb7f1bef8a8a7e016493502.bindPopup(popup_86353c2d8eab3376993b172e04276944)\n",
       "        ;\n",
       "\n",
       "        \n",
       "    \n",
       "    \n",
       "            var marker_d08577610f8341fa36b52381a142fe27 = L.marker(\n",
       "                [-2.179331240160728, -79.9020339345453],\n",
       "                {}\n",
       "            ).addTo(map_375d94e9b6d7c81235521ed0ccc7e0cc);\n",
       "        \n",
       "    \n",
       "            var icon_161f9db7302e177c3270e5a79a90617d = L.AwesomeMarkers.icon(\n",
       "                {&quot;extraClasses&quot;: &quot;fa-rotate-0&quot;, &quot;icon&quot;: &quot;info-sign&quot;, &quot;iconColor&quot;: &quot;white&quot;, &quot;markerColor&quot;: &quot;green&quot;, &quot;prefix&quot;: &quot;glyphicon&quot;}\n",
       "            );\n",
       "            marker_d08577610f8341fa36b52381a142fe27.setIcon(icon_161f9db7302e177c3270e5a79a90617d);\n",
       "        \n",
       "    \n",
       "        var popup_97f114edb8f00f49c2e87282515bb73d = L.popup({&quot;maxWidth&quot;: &quot;100%&quot;});\n",
       "\n",
       "        \n",
       "            \n",
       "                var html_73e282951a83225ba6cb7cbfc543689a = $(`&lt;div id=&quot;html_73e282951a83225ba6cb7cbfc543689a&quot; style=&quot;width: 100.0%; height: 100.0%;&quot;&gt;Cluster 1 Centroide&lt;/div&gt;`)[0];\n",
       "                popup_97f114edb8f00f49c2e87282515bb73d.setContent(html_73e282951a83225ba6cb7cbfc543689a);\n",
       "            \n",
       "        \n",
       "\n",
       "        marker_d08577610f8341fa36b52381a142fe27.bindPopup(popup_97f114edb8f00f49c2e87282515bb73d)\n",
       "        ;\n",
       "\n",
       "        \n",
       "    \n",
       "    \n",
       "            var marker_29ace30566a1a7c5ce2214971b899093 = L.marker(\n",
       "                [-0.9602149038635807, -80.40898663784536],\n",
       "                {}\n",
       "            ).addTo(map_375d94e9b6d7c81235521ed0ccc7e0cc);\n",
       "        \n",
       "    \n",
       "            var icon_9e967b20e9889629ed80423f9d0aee66 = L.AwesomeMarkers.icon(\n",
       "                {&quot;extraClasses&quot;: &quot;fa-rotate-0&quot;, &quot;icon&quot;: &quot;info-sign&quot;, &quot;iconColor&quot;: &quot;white&quot;, &quot;markerColor&quot;: &quot;red&quot;, &quot;prefix&quot;: &quot;glyphicon&quot;}\n",
       "            );\n",
       "            marker_29ace30566a1a7c5ce2214971b899093.setIcon(icon_9e967b20e9889629ed80423f9d0aee66);\n",
       "        \n",
       "    \n",
       "        var popup_ee2d6e2fa692f73d85fd49863868e7e2 = L.popup({&quot;maxWidth&quot;: &quot;100%&quot;});\n",
       "\n",
       "        \n",
       "            \n",
       "                var html_ebc798e55f8a3bd072d8112355bd17ca = $(`&lt;div id=&quot;html_ebc798e55f8a3bd072d8112355bd17ca&quot; style=&quot;width: 100.0%; height: 100.0%;&quot;&gt;Cluster 2 Centroide&lt;/div&gt;`)[0];\n",
       "                popup_ee2d6e2fa692f73d85fd49863868e7e2.setContent(html_ebc798e55f8a3bd072d8112355bd17ca);\n",
       "            \n",
       "        \n",
       "\n",
       "        marker_29ace30566a1a7c5ce2214971b899093.bindPopup(popup_ee2d6e2fa692f73d85fd49863868e7e2)\n",
       "        ;\n",
       "\n",
       "        \n",
       "    \n",
       "&lt;/script&gt;\n",
       "&lt;/html&gt;\" style=\"position:absolute;width:100%;height:100%;left:0;top:0;border:none !important;\" allowfullscreen webkitallowfullscreen mozallowfullscreen></iframe></div></div>"
      ],
      "text/plain": [
       "<folium.folium.Map at 0x1c195b9eed0>"
      ]
     },
     "execution_count": 428,
     "metadata": {},
     "output_type": "execute_result"
    }
   ],
   "source": [
    "import folium\n",
    "ecuador_center = [-1.831239, -78.183406]\n",
    "mapa_ecuador = folium.Map(location=ecuador_center, zoom_start=6)\n",
    "cluster_colors = {0: 'blue', 1: 'green', 2: 'red'}\n",
    "centroides = kmeans.cluster_centers_\n",
    "for i, centroide in enumerate(centroides):\n",
    "    folium.Marker(\n",
    "        location=[centroide[1], centroide[0]],\n",
    "        popup=f\"Cluster {i} Centroide\",\n",
    "        icon=folium.Icon(color=cluster_colors.get(i, 'gray'))\n",
    "    ).add_to(mapa_ecuador)\n",
    "mapa_ecuador"
   ]
  },
  {
   "cell_type": "code",
   "execution_count": 427,
   "metadata": {},
   "outputs": [
    {
     "name": "stdout",
     "output_type": "stream",
     "text": [
      "Archivo 'clusters.txt' generado exitosamente.\n"
     ]
    }
   ],
   "source": [
    "if len(df2) == 287:\n",
    "    clusters_output = pd.DataFrame({\n",
    "        'location_id': range(len(df2)),\n",
    "        'cluster_label': df2['cluster']\n",
    "    })\n",
    "\n",
    "    clusters_output.to_csv('clusters.txt', sep=' ', index=False, header=False)\n",
    "    print(\"Archivo 'clusters.txt' generado exitosamente.\")\n",
    "else:\n",
    "    print(f\"El DataFrame no tiene 287 filas, tiene {len(df2)} filas.\")"
   ]
  }
 ],
 "metadata": {
  "kernelspec": {
   "display_name": "Python 3 (ipykernel)",
   "language": "python",
   "name": "python3"
  },
  "language_info": {
   "codemirror_mode": {
    "name": "ipython",
    "version": 3
   },
   "file_extension": ".py",
   "mimetype": "text/x-python",
   "name": "python",
   "nbconvert_exporter": "python",
   "pygments_lexer": "ipython3",
   "version": "3.11.3"
  }
 },
 "nbformat": 4,
 "nbformat_minor": 2
}
